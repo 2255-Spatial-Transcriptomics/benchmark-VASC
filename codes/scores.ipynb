{
 "cells": [
  {
   "cell_type": "code",
   "execution_count": 3,
   "metadata": {},
   "outputs": [],
   "source": [
    "from sklearn.metrics import normalized_mutual_info_score,adjusted_rand_score,homogeneity_score,completeness_score,silhouette_score\n",
    "import numpy as np"
   ]
  },
  {
   "cell_type": "code",
   "execution_count": 7,
   "metadata": {},
   "outputs": [
    {
     "name": "stdout",
     "output_type": "stream",
     "text": [
      "1.0\n",
      "0.4444444444444444\n",
      "0.0\n",
      "0.0\n",
      "1.0\n"
     ]
    }
   ],
   "source": [
    "print(adjusted_rand_score([0, 0,-1,-1, 1, 1], [0, 0, 2, 2, 1, 1]))\n",
    "print(adjusted_rand_score([0, 0,-1, 0, 1, 1], [0, 0, 2, 2, 1, 1]))\n",
    "print(adjusted_rand_score([0, 0, -1,-1, 1, 1], [0, 0, 0, 0, 0, 1]))\n",
    "print(adjusted_rand_score([0, 0,-1,-1, 1, 1], [0, 1, 2, 3, 4, 5]))\n",
    "print(adjusted_rand_score([0, 0,-1,-1, 1, 1], [0, 0, 2, 2, 1, 1]))\n"
   ]
  },
  {
   "cell_type": "code",
   "execution_count": null,
   "metadata": {},
   "outputs": [],
   "source": []
  }
 ],
 "metadata": {
  "kernelspec": {
   "display_name": "Python 3.8.13 ('SEDR_Env')",
   "language": "python",
   "name": "python3"
  },
  "language_info": {
   "codemirror_mode": {
    "name": "ipython",
    "version": 3
   },
   "file_extension": ".py",
   "mimetype": "text/x-python",
   "name": "python",
   "nbconvert_exporter": "python",
   "pygments_lexer": "ipython3",
   "version": "3.8.13"
  },
  "orig_nbformat": 4,
  "vscode": {
   "interpreter": {
    "hash": "ee7320e67add1ab52394e78b2bbb0e97f14bf60d4d9ae7b81be9a33578988cb4"
   }
  }
 },
 "nbformat": 4,
 "nbformat_minor": 2
}
